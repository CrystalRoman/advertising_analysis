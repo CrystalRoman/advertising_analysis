{
 "cells": [
  {
   "cell_type": "markdown",
   "id": "765b2408",
   "metadata": {},
   "source": [
    "# Исследование эффективности новой рекламы компании"
   ]
  },
  {
   "cell_type": "markdown",
   "id": "d6ef9f6e",
   "metadata": {},
   "source": [
    "Компания решила использовать рекламу для повышения продаж своих услуг и провела A/B-тестирование:\n",
    "\n",
    "Основной группе пользователей показывали рекламу (экспериментальная группа), в то время как контрольная группа видела общественное объявление (PSA) или не видела ничего в том же месте и размере, где обычно размещалась реклама.\n",
    "\n",
    "Цель исследования — проанализировать результаты теста, определить, была ли реклама эффективной, и проверить, является ли разница между группами статистически значимой.\n",
    "\n",
    "Описание данных:\n",
    "\n",
    "- Index: Индекс строки\n",
    "- user id: Идентификатор пользователя\n",
    "- test group: \"ad\" — реклама, \"psa\" — общественное объявление\n",
    "- converted: Покупка продукта — True/False\n",
    "- total ads: Количество показов рекламы\n",
    "- most ads day: День с наибольшим количеством показов\n",
    "- most ads hour: Час с наибольшим количеством показов"
   ]
  },
  {
   "cell_type": "markdown",
   "id": "553adf53",
   "metadata": {},
   "source": [
    "# Содержание"
   ]
  },
  {
   "cell_type": "markdown",
   "id": "00a45b8b",
   "metadata": {},
   "source": [
    "1. Изучение датасета\n",
    "    - Проверка на дубликаты\n",
    "    - Проверка на нулевые значения\n",
    "    - Баланс классов\n",
    "    - Распределение конвертированных и неконвертированных по группам\n",
    "2. Анализ конверсии\n",
    "    - По дням недели\n",
    "    - По группам\n",
    "3. Зависимость группы от выполнения целевого действия\n",
    "4. Анализ количества показов реклам или объявлений группам\n",
    "    - Дисперсия\n",
    "    - Среднее значение\n",
    "    - Степень отличия этих средних\n",
    "5. Проверка на равенство конверсий\n",
    "6. Вывод"
   ]
  },
  {
   "cell_type": "markdown",
   "id": "cbc63c56",
   "metadata": {},
   "source": [
    "# 1. Загрузка и изучение датасета"
   ]
  },
  {
   "cell_type": "code",
   "execution_count": 1,
   "id": "cb89814a",
   "metadata": {},
   "outputs": [],
   "source": [
    "import pandas as pd\n",
    "import numpy as np\n",
    "import seaborn as sns\n",
    "import matplotlib.pyplot as plt"
   ]
  },
  {
   "cell_type": "code",
   "execution_count": 2,
   "id": "8fef4333",
   "metadata": {},
   "outputs": [
    {
     "data": {
      "text/html": [
       "<div>\n",
       "<style scoped>\n",
       "    .dataframe tbody tr th:only-of-type {\n",
       "        vertical-align: middle;\n",
       "    }\n",
       "\n",
       "    .dataframe tbody tr th {\n",
       "        vertical-align: top;\n",
       "    }\n",
       "\n",
       "    .dataframe thead th {\n",
       "        text-align: right;\n",
       "    }\n",
       "</style>\n",
       "<table border=\"1\" class=\"dataframe\">\n",
       "  <thead>\n",
       "    <tr style=\"text-align: right;\">\n",
       "      <th></th>\n",
       "      <th>user id</th>\n",
       "      <th>test group</th>\n",
       "      <th>converted</th>\n",
       "      <th>total ads</th>\n",
       "      <th>most ads day</th>\n",
       "      <th>most ads hour</th>\n",
       "    </tr>\n",
       "  </thead>\n",
       "  <tbody>\n",
       "    <tr>\n",
       "      <th>0</th>\n",
       "      <td>1069124</td>\n",
       "      <td>ad</td>\n",
       "      <td>False</td>\n",
       "      <td>130</td>\n",
       "      <td>Monday</td>\n",
       "      <td>20</td>\n",
       "    </tr>\n",
       "    <tr>\n",
       "      <th>1</th>\n",
       "      <td>1119715</td>\n",
       "      <td>ad</td>\n",
       "      <td>False</td>\n",
       "      <td>93</td>\n",
       "      <td>Tuesday</td>\n",
       "      <td>22</td>\n",
       "    </tr>\n",
       "    <tr>\n",
       "      <th>2</th>\n",
       "      <td>1144181</td>\n",
       "      <td>ad</td>\n",
       "      <td>False</td>\n",
       "      <td>21</td>\n",
       "      <td>Tuesday</td>\n",
       "      <td>18</td>\n",
       "    </tr>\n",
       "    <tr>\n",
       "      <th>3</th>\n",
       "      <td>1435133</td>\n",
       "      <td>ad</td>\n",
       "      <td>False</td>\n",
       "      <td>355</td>\n",
       "      <td>Tuesday</td>\n",
       "      <td>10</td>\n",
       "    </tr>\n",
       "    <tr>\n",
       "      <th>4</th>\n",
       "      <td>1015700</td>\n",
       "      <td>ad</td>\n",
       "      <td>False</td>\n",
       "      <td>276</td>\n",
       "      <td>Friday</td>\n",
       "      <td>14</td>\n",
       "    </tr>\n",
       "  </tbody>\n",
       "</table>\n",
       "</div>"
      ],
      "text/plain": [
       "   user id test group  converted  total ads most ads day  most ads hour\n",
       "0  1069124         ad      False        130       Monday             20\n",
       "1  1119715         ad      False         93      Tuesday             22\n",
       "2  1144181         ad      False         21      Tuesday             18\n",
       "3  1435133         ad      False        355      Tuesday             10\n",
       "4  1015700         ad      False        276       Friday             14"
      ]
     },
     "execution_count": 2,
     "metadata": {},
     "output_type": "execute_result"
    }
   ],
   "source": [
    "df = pd.read_csv('marketing_AB.csv', index_col=0)\n",
    "df.head()"
   ]
  },
  {
   "cell_type": "code",
   "execution_count": 3,
   "id": "269da3b5",
   "metadata": {},
   "outputs": [
    {
     "name": "stdout",
     "output_type": "stream",
     "text": [
      "<class 'pandas.core.frame.DataFrame'>\n",
      "Int64Index: 588101 entries, 0 to 588100\n",
      "Data columns (total 6 columns):\n",
      " #   Column         Non-Null Count   Dtype \n",
      "---  ------         --------------   ----- \n",
      " 0   user id        588101 non-null  int64 \n",
      " 1   test group     588101 non-null  object\n",
      " 2   converted      588101 non-null  bool  \n",
      " 3   total ads      588101 non-null  int64 \n",
      " 4   most ads day   588101 non-null  object\n",
      " 5   most ads hour  588101 non-null  int64 \n",
      "dtypes: bool(1), int64(3), object(2)\n",
      "memory usage: 27.5+ MB\n"
     ]
    }
   ],
   "source": [
    "df.info()"
   ]
  },
  {
   "cell_type": "code",
   "execution_count": 4,
   "id": "d35c66f1",
   "metadata": {},
   "outputs": [
    {
     "data": {
      "text/html": [
       "<div>\n",
       "<style scoped>\n",
       "    .dataframe tbody tr th:only-of-type {\n",
       "        vertical-align: middle;\n",
       "    }\n",
       "\n",
       "    .dataframe tbody tr th {\n",
       "        vertical-align: top;\n",
       "    }\n",
       "\n",
       "    .dataframe thead th {\n",
       "        text-align: right;\n",
       "    }\n",
       "</style>\n",
       "<table border=\"1\" class=\"dataframe\">\n",
       "  <thead>\n",
       "    <tr style=\"text-align: right;\">\n",
       "      <th></th>\n",
       "      <th>user id</th>\n",
       "      <th>test group</th>\n",
       "      <th>converted</th>\n",
       "      <th>total ads</th>\n",
       "      <th>most ads day</th>\n",
       "      <th>most ads hour</th>\n",
       "    </tr>\n",
       "  </thead>\n",
       "  <tbody>\n",
       "  </tbody>\n",
       "</table>\n",
       "</div>"
      ],
      "text/plain": [
       "Empty DataFrame\n",
       "Columns: [user id, test group, converted, total ads, most ads day, most ads hour]\n",
       "Index: []"
      ]
     },
     "execution_count": 4,
     "metadata": {},
     "output_type": "execute_result"
    }
   ],
   "source": [
    "duplicates = df[df.duplicated('user id')]\n",
    "duplicates"
   ]
  },
  {
   "cell_type": "code",
   "execution_count": 5,
   "id": "41357598",
   "metadata": {
    "scrolled": true
   },
   "outputs": [
    {
     "data": {
      "text/plain": [
       "user id          0\n",
       "test group       0\n",
       "converted        0\n",
       "total ads        0\n",
       "most ads day     0\n",
       "most ads hour    0\n",
       "dtype: int64"
      ]
     },
     "execution_count": 5,
     "metadata": {},
     "output_type": "execute_result"
    }
   ],
   "source": [
    "df.isna().sum()"
   ]
  },
  {
   "cell_type": "markdown",
   "id": "e5b979f9",
   "metadata": {},
   "source": [
    "Нулевых значений, дубликатов в датасете не было."
   ]
  },
  {
   "cell_type": "code",
   "execution_count": 6,
   "id": "e5854069",
   "metadata": {
    "scrolled": true
   },
   "outputs": [
    {
     "data": {
      "image/png": "[encoded data removed]",
      "text/plain": [
       "<Figure size 800x500 with 1 Axes>"
      ]
     },
     "metadata": {},
     "output_type": "display_data"
    }
   ],
   "source": [
    "fig, ax = plt.subplots(figsize=(8, 5))\n",
    "sns.countplot(df, x='test group', hue='converted', ax=ax)\n",
    "\n",
    "plt.show()"
   ]
  },
  {
   "cell_type": "markdown",
   "id": "8b0ccb80",
   "metadata": {},
   "source": [
    "Группы не сбалансированы."
   ]
  },
  {
   "cell_type": "code",
   "execution_count": 7,
   "id": "4c4725a0",
   "metadata": {
    "scrolled": false
   },
   "outputs": [
    {
     "data": {
      "image/png": "[encoded data removed]",
      "text/plain": [
       "<Figure size 1200x500 with 2 Axes>"
      ]
     },
     "metadata": {},
     "output_type": "display_data"
    }
   ],
   "source": [
    "cont_var = ['total ads', 'most ads hour']\n",
    "\n",
    "df[cont_var].hist(bins=24, figsize=(12, 5), edgecolor='black')\n",
    "\n",
    "plt.suptitle('Гистограммы непрерывных переменных')\n",
    "plt.show()"
   ]
  },
  {
   "cell_type": "markdown",
   "id": "25f5809b",
   "metadata": {},
   "source": [
    "# 2. Анализ конверсий"
   ]
  },
  {
   "cell_type": "markdown",
   "id": "ab1f3a00",
   "metadata": {},
   "source": [
    "## 2.1. По дням недели"
   ]
  },
  {
   "cell_type": "code",
   "execution_count": 8,
   "id": "1f850e28",
   "metadata": {
    "scrolled": false
   },
   "outputs": [],
   "source": [
    "def most_ads_day_group(group='общий'):\n",
    "    # Группируем данные по дням недели и рассчитываем процент конверсий\n",
    "    if group == 'общий':\n",
    "        conversion_by_day = df.groupby('most ads day')['converted'].mean().reset_index()\n",
    "    else:\n",
    "        conversion_by_day = df[df['test group'] == group].groupby('most ads day')['converted'].mean().reset_index()\n",
    "\n",
    "    ordered_days = ['Monday', 'Tuesday', 'Wednesday', 'Thursday', 'Friday', 'Saturday', 'Sunday']\n",
    "\n",
    "    conversion_by_day['most ads day'] = pd.Categorical(conversion_by_day['most ads day'], categories=ordered_days, ordered=True)\n",
    "\n",
    "    # Сортируем по правильному порядку\n",
    "    conversion_by_day = conversion_by_day.sort_values('most ads day')\n",
    "\n",
    "    plt.figure(figsize=(10, 6))\n",
    "\n",
    "    sns.barplot(data=conversion_by_day, x='most ads day', y='converted', palette='viridis')\n",
    "\n",
    "    plt.title(f'Процент конверсий по дням недели ({group})')\n",
    "    plt.xlabel('День недели')\n",
    "    plt.ylabel('Процент конверсий')\n",
    "    plt.show()\n",
    "    \n",
    "    print('Максимальный процент конверсии:\\n', conversion_by_day.loc[conversion_by_day['converted'].idxmax()], '\\n')\n",
    "    print('Минимальный процент конверсии:\\n', conversion_by_day.loc[conversion_by_day['converted'].idxmin()])"
   ]
  },
  {
   "cell_type": "code",
   "execution_count": 9,
   "id": "a5105551",
   "metadata": {
    "scrolled": false
   },
   "outputs": [
    {
     "data": {
      "image/png": "[encoded data removed]",
      "text/plain": [
       "<Figure size 1000x600 with 1 Axes>"
      ]
     },
     "metadata": {},
     "output_type": "display_data"
    },
    {
     "name": "stdout",
     "output_type": "stream",
     "text": [
      "Максимальный процент конверсии:\n",
      " most ads day      Monday\n",
      "converted       0.033241\n",
      "Name: 1, dtype: object \n",
      "\n",
      "Минимальный процент конверсии:\n",
      " most ads day    Saturday\n",
      "converted       0.021307\n",
      "Name: 2, dtype: object\n"
     ]
    }
   ],
   "source": [
    "most_ads_day_group('ad')"
   ]
  },
  {
   "cell_type": "code",
   "execution_count": 10,
   "id": "e8851e19",
   "metadata": {
    "scrolled": false
   },
   "outputs": [
    {
     "data": {
      "image/png": "[encoded data removed]",
      "text/plain": [
       "<Figure size 1000x600 with 1 Axes>"
      ]
     },
     "metadata": {},
     "output_type": "display_data"
    },
    {
     "name": "stdout",
     "output_type": "stream",
     "text": [
      "Максимальный процент конверсии:\n",
      " most ads day      Monday\n",
      "converted       0.022559\n",
      "Name: 1, dtype: object \n",
      "\n",
      "Минимальный процент конверсии:\n",
      " most ads day    Saturday\n",
      "converted       0.013996\n",
      "Name: 2, dtype: object\n"
     ]
    }
   ],
   "source": [
    "most_ads_day_group('psa')"
   ]
  },
  {
   "cell_type": "code",
   "execution_count": 11,
   "id": "64f83265",
   "metadata": {
    "scrolled": false
   },
   "outputs": [
    {
     "data": {
      "image/png": "[encoded data removed]",
      "text/plain": [
       "<Figure size 1000x600 with 1 Axes>"
      ]
     },
     "metadata": {},
     "output_type": "display_data"
    },
    {
     "name": "stdout",
     "output_type": "stream",
     "text": [
      "Максимальный процент конверсии:\n",
      " most ads day      Monday\n",
      "converted       0.032812\n",
      "Name: 1, dtype: object \n",
      "\n",
      "Минимальный процент конверсии:\n",
      " most ads day    Saturday\n",
      "converted       0.021051\n",
      "Name: 2, dtype: object\n"
     ]
    }
   ],
   "source": [
    "most_ads_day_group()"
   ]
  },
  {
   "cell_type": "markdown",
   "id": "378008fb",
   "metadata": {},
   "source": [
    "Из графиков видно, что распределение конверсий разное, однако дни, в которые они максимальные и минимальные, - одинаковые. В понедельник конверсия максимальная, а в субботу минимальная."
   ]
  },
  {
   "cell_type": "markdown",
   "id": "d3b15b62",
   "metadata": {},
   "source": [
    "### Тест Хи-квадрат"
   ]
  },
  {
   "cell_type": "markdown",
   "id": "1bd9ced4",
   "metadata": {},
   "source": [
    "С помощью статистического теста хи-квадрат проверим, зависит ли конверсия от дня недели, в который рекламу показывали больше и чаще всего."
   ]
  },
  {
   "cell_type": "code",
   "execution_count": 12,
   "id": "2d0cef08",
   "metadata": {},
   "outputs": [],
   "source": [
    "from scipy.stats import chi2_contingency\n",
    "\n",
    "def chi2_most_ads_days(group):\n",
    "    contingency_table = pd.crosstab(df[df['test group'] == group]['converted'], df[df['test group'] == group]['most ads day'])\n",
    "    \n",
    "    chi2, p, dof, expected = chi2_contingency(contingency_table)\n",
    "\n",
    "    print(f\"\\nChi-squared value: {chi2}\")\n",
    "    print(f\"P-value: {p}\")\n",
    "    print(f\"Степень свободы: {dof}\")"
   ]
  },
  {
   "cell_type": "code",
   "execution_count": 13,
   "id": "f420016d",
   "metadata": {},
   "outputs": [
    {
     "name": "stdout",
     "output_type": "stream",
     "text": [
      "\n",
      "Chi-squared value: 412.79432508817627\n",
      "P-value: 4.9594891936593376e-86\n",
      "Степень свободы: 6\n"
     ]
    }
   ],
   "source": [
    "chi2_most_ads_days('ad')"
   ]
  },
  {
   "cell_type": "code",
   "execution_count": 14,
   "id": "22cb27de",
   "metadata": {},
   "outputs": [
    {
     "name": "stdout",
     "output_type": "stream",
     "text": [
      "\n",
      "Chi-squared value: 12.732939736580162\n",
      "P-value: 0.047478445312019814\n",
      "Степень свободы: 6\n"
     ]
    }
   ],
   "source": [
    "chi2_most_ads_days('psa')"
   ]
  },
  {
   "cell_type": "markdown",
   "id": "46659ec4",
   "metadata": {},
   "source": [
    "Очень маленькое p-value в группе \"ad\" свидетельствует о том, что существует статистически значимая связь между днем недели, когда пользователи видели больше всего рекламы, и их конверсией. Это говорит о том, что день, в который пользователи видели наибольшее количество рекламы, оказывает влияние на то, совершат ли они конверсию.\n",
    "\n",
    "Пользователи, которые чаще всего видят рекламу в понедельник, имеют более высокие шансы на конверсию, тогда как в субботу наблюдается наименьшая конверсия.\n",
    "\n",
    "Таким образом, вероятности конверсии у пользователей зависят от того, в какой день недели они видят больше всего рекламы.\n",
    "\n",
    "В случае с группой \"psa\" p-value не настолько маленькое (однако меньше 0.05), как в группе \"ad\". День недели, скорее всего, меньше влияет на конверсию в группе \"psa\"."
   ]
  },
  {
   "cell_type": "markdown",
   "id": "41577619",
   "metadata": {},
   "source": [
    "## 2.2 По группам"
   ]
  },
  {
   "cell_type": "code",
   "execution_count": 15,
   "id": "c0d790e9",
   "metadata": {
    "scrolled": false
   },
   "outputs": [
    {
     "data": {
      "image/png": "[encoded data removed]",
      "text/plain": [
       "<Figure size 640x480 with 1 Axes>"
      ]
     },
     "metadata": {},
     "output_type": "display_data"
    }
   ],
   "source": [
    "# Столбчатая диаграмма для показателей конверсии по группам\n",
    "conversion_rate = df.groupby('test group')['converted'].mean().reset_index()\n",
    "sns.barplot(data=conversion_rate, x='test group', y='converted')\n",
    "plt.title('Процент конверсий по группам')\n",
    "plt.xlabel('Группа')\n",
    "plt.ylabel('Процент конверсий')\n",
    "plt.show()"
   ]
  },
  {
   "cell_type": "code",
   "execution_count": 16,
   "id": "508c366a",
   "metadata": {},
   "outputs": [
    {
     "data": {
      "text/html": [
       "<div>\n",
       "<style scoped>\n",
       "    .dataframe tbody tr th:only-of-type {\n",
       "        vertical-align: middle;\n",
       "    }\n",
       "\n",
       "    .dataframe tbody tr th {\n",
       "        vertical-align: top;\n",
       "    }\n",
       "\n",
       "    .dataframe thead th {\n",
       "        text-align: right;\n",
       "    }\n",
       "</style>\n",
       "<table border=\"1\" class=\"dataframe\">\n",
       "  <thead>\n",
       "    <tr style=\"text-align: right;\">\n",
       "      <th></th>\n",
       "      <th>test group</th>\n",
       "      <th>converted</th>\n",
       "    </tr>\n",
       "  </thead>\n",
       "  <tbody>\n",
       "    <tr>\n",
       "      <th>0</th>\n",
       "      <td>ad</td>\n",
       "      <td>0.025547</td>\n",
       "    </tr>\n",
       "    <tr>\n",
       "      <th>1</th>\n",
       "      <td>psa</td>\n",
       "      <td>0.017854</td>\n",
       "    </tr>\n",
       "  </tbody>\n",
       "</table>\n",
       "</div>"
      ],
      "text/plain": [
       "  test group  converted\n",
       "0         ad   0.025547\n",
       "1        psa   0.017854"
      ]
     },
     "execution_count": 16,
     "metadata": {},
     "output_type": "execute_result"
    }
   ],
   "source": [
    "conversion_rate"
   ]
  },
  {
   "cell_type": "markdown",
   "id": "4888c27a",
   "metadata": {},
   "source": [
    "Конверсия людей, которым показывали рекламу (2.55%), превосходит конверсию тех, которым рекламу не показывали (1.79), на 0.8%."
   ]
  },
  {
   "cell_type": "markdown",
   "id": "19bdabcd",
   "metadata": {},
   "source": [
    "# 3. Зависимость группы от выполнения целевого действия"
   ]
  },
  {
   "cell_type": "markdown",
   "id": "c786be68",
   "metadata": {},
   "source": [
    "С помощью статистического теста хи-квадрат проверим, зависит ли конверсия от группы."
   ]
  },
  {
   "cell_type": "code",
   "execution_count": 17,
   "id": "141d0783",
   "metadata": {},
   "outputs": [
    {
     "data": {
      "text/html": [
       "<div>\n",
       "<style scoped>\n",
       "    .dataframe tbody tr th:only-of-type {\n",
       "        vertical-align: middle;\n",
       "    }\n",
       "\n",
       "    .dataframe tbody tr th {\n",
       "        vertical-align: top;\n",
       "    }\n",
       "\n",
       "    .dataframe thead th {\n",
       "        text-align: right;\n",
       "    }\n",
       "</style>\n",
       "<table border=\"1\" class=\"dataframe\">\n",
       "  <thead>\n",
       "    <tr style=\"text-align: right;\">\n",
       "      <th>test group</th>\n",
       "      <th>ad</th>\n",
       "      <th>psa</th>\n",
       "    </tr>\n",
       "    <tr>\n",
       "      <th>converted</th>\n",
       "      <th></th>\n",
       "      <th></th>\n",
       "    </tr>\n",
       "  </thead>\n",
       "  <tbody>\n",
       "    <tr>\n",
       "      <th>False</th>\n",
       "      <td>550154</td>\n",
       "      <td>23104</td>\n",
       "    </tr>\n",
       "    <tr>\n",
       "      <th>True</th>\n",
       "      <td>14423</td>\n",
       "      <td>420</td>\n",
       "    </tr>\n",
       "  </tbody>\n",
       "</table>\n",
       "</div>"
      ],
      "text/plain": [
       "test group      ad    psa\n",
       "converted                \n",
       "False       550154  23104\n",
       "True         14423    420"
      ]
     },
     "execution_count": 17,
     "metadata": {},
     "output_type": "execute_result"
    }
   ],
   "source": [
    "contingency_table_CT = pd.crosstab(df['converted'], df['test group'])\n",
    "contingency_table_CT"
   ]
  },
  {
   "cell_type": "code",
   "execution_count": 18,
   "id": "a8a532bd",
   "metadata": {},
   "outputs": [
    {
     "name": "stdout",
     "output_type": "stream",
     "text": [
      "\n",
      "Chi-squared value: 54.005823883685245\n",
      "P-value: 1.9989623063390075e-13\n",
      "Степень свободы: 1\n",
      "Процент ячеек с ожидаемыми значениями, меньшими чем 5: 0.00%\n"
     ]
    }
   ],
   "source": [
    "chi2, p, dof, expected_CT = chi2_contingency(contingency_table_CT)\n",
    "percentage_low_expected_CT = (expected_CT < 5).sum().sum() / (expected_CT.shape[0] * expected_CT.shape[1]) * 100\n",
    "\n",
    "print(f\"\\nChi-squared value: {chi2}\")\n",
    "print(f\"P-value: {p}\")\n",
    "print(f\"Степень свободы: {dof}\")\n",
    "print(f\"Процент ячеек с ожидаемыми значениями, меньшими чем 5: {percentage_low_expected_CT:.2f}%\")"
   ]
  },
  {
   "cell_type": "markdown",
   "id": "ddd49e29",
   "metadata": {},
   "source": [
    "0,00% ячеек имеют ожидаемые значения меньше 5, что означает, что условия для применения теста хи-квадрат выполнены, и полученные результаты можно считать действительными.\n",
    "\n",
    "Очень маленькое p-value говорит о том, что существует статистически значимая связь между тем, показывали ли пользователям рекламу или нет. Это подтверждает, что результаты не случайны и есть реальная зависимость."
   ]
  },
  {
   "cell_type": "markdown",
   "id": "b730001c",
   "metadata": {},
   "source": [
    "# 4. Анализ количества показов реклам или объявлений группам"
   ]
  },
  {
   "cell_type": "markdown",
   "id": "9877e966",
   "metadata": {},
   "source": [
    "## 4.1. Дисперсия"
   ]
  },
  {
   "cell_type": "markdown",
   "id": "0677cd6c",
   "metadata": {},
   "source": [
    "С помощью теста Левена проверим, отличаются ли дисперсии в группах."
   ]
  },
  {
   "cell_type": "code",
   "execution_count": 19,
   "id": "ba38f673",
   "metadata": {},
   "outputs": [
    {
     "name": "stdout",
     "output_type": "stream",
     "text": [
      "Levene's test statistic: 9121.196956737573\n",
      "p-value: 0.0\n"
     ]
    }
   ],
   "source": [
    "from scipy.stats import levene\n",
    "\n",
    "groupN = df[df['converted'] == False]['total ads']\n",
    "groupY = df[df['converted'] == True]['total ads']\n",
    "\n",
    "statistic, p_value = levene(groupN, groupY)\n",
    "\n",
    "print(\"Levene's test statistic:\", statistic)\n",
    "print(\"p-value:\", p_value)"
   ]
  },
  {
   "cell_type": "markdown",
   "id": "c3778271",
   "metadata": {},
   "source": [
    "P-value меньше уровня значимости (α=0.05), поэтому мы отвергаем нулевую гипотезу, которая предполагает, что дисперсии одинаковы в обеих группах (конвертировавшиеся и не конвертировавшиеся).\n",
    "\n",
    "Это означает, что разброс значений по количеству просмотренных объявлений между пользователями, которые совершили конверсию, и теми, кто не сделал этого, значительно различается, что указывает на неравномерное распределение данных в этих группах."
   ]
  },
  {
   "cell_type": "markdown",
   "id": "dfb769e8",
   "metadata": {},
   "source": [
    "## 4.2. Среднее значение"
   ]
  },
  {
   "cell_type": "code",
   "execution_count": 20,
   "id": "dccd6726",
   "metadata": {},
   "outputs": [
    {
     "name": "stdout",
     "output_type": "stream",
     "text": [
      "KstestResult(statistic=0.878660751109711, pvalue=0.0, statistic_location=2, statistic_sign=-1)\n",
      "KstestResult(statistic=0.9863210579745681, pvalue=0.0, statistic_location=3, statistic_sign=-1)\n"
     ]
    }
   ],
   "source": [
    "from scipy.stats import kstest\n",
    "\n",
    "print(kstest(groupN, 'norm'))\n",
    "print(kstest(groupY, 'norm'))"
   ]
  },
  {
   "cell_type": "markdown",
   "id": "2a29a0f0",
   "metadata": {},
   "source": [
    "Обе группы показали несоответствие нормальному распределению (p-value < 0.05), что было подтверждено тестом Колмогорова-Смирнова. Поэтому для сравнения средних выберем тест Манна-Уитни, так как неясно, достаточно ли в выборке данных, чтобы по центральной предельной теореме выборочные средние были нормально распределены."
   ]
  },
  {
   "cell_type": "code",
   "execution_count": 21,
   "id": "4fc8ca49",
   "metadata": {},
   "outputs": [
    {
     "name": "stdout",
     "output_type": "stream",
     "text": [
      "Статистика U: 7269106736.0\n",
      "P-значение: 0.0\n"
     ]
    }
   ],
   "source": [
    "from scipy.stats import mannwhitneyu\n",
    "\n",
    "stat, p_value = mannwhitneyu(groupY, groupN, alternative='two-sided')\n",
    "print(f\"Статистика U: {stat}\")\n",
    "print(f\"P-значение: {p_value}\")"
   ]
  },
  {
   "cell_type": "markdown",
   "id": "7baac9cc",
   "metadata": {},
   "source": [
    "P-value также меньше (α=0.05), поэтому мы отвергаем нулевую гипотезу. Это означает, что существует статистически значимая разница между средними значениями количества просмотренных объявлений в группах конвертировавшихся и не конвертировавшихся."
   ]
  },
  {
   "cell_type": "markdown",
   "id": "bf33a45a",
   "metadata": {},
   "source": [
    "## 4.3. Степень различия средних значений"
   ]
  },
  {
   "cell_type": "code",
   "execution_count": 22,
   "id": "88740dfd",
   "metadata": {},
   "outputs": [
    {
     "name": "stdout",
     "output_type": "stream",
     "text": [
      "Cohen's d: 1.4201314076149827\n"
     ]
    }
   ],
   "source": [
    "meanN, meanY = np.mean(groupN), np.mean(groupY)\n",
    "stdN, stdY = np.std(groupN, ddof=1), np.std(groupY, ddof=1)\n",
    "\n",
    "# Объединенное стандартное отклонение\n",
    "pooled_std = np.sqrt(((len(groupN) - 1) * stdN**2 + (len(groupY) - 1) * stdY**2) / (len(groupN) + len(groupY) - 2))\n",
    "\n",
    "# Коэффициент эффекта Кохена\n",
    "cohen_d = (meanY - meanN) / pooled_std\n",
    "print(f\"Cohen's d: {cohen_d}\")"
   ]
  },
  {
   "cell_type": "markdown",
   "id": "8047694b",
   "metadata": {},
   "source": [
    "Cohen's d равный 1.42 считается большим размером эффекта. Это означает, что разница в количестве просмотренных объявлений между группами конвертировавшихся и не конвертировавшихся пользователей значительна."
   ]
  },
  {
   "cell_type": "markdown",
   "id": "b9f82766",
   "metadata": {},
   "source": [
    "# 5. Проведение A/B-теста для проверки равенства конверсий"
   ]
  },
  {
   "cell_type": "code",
   "execution_count": 23,
   "id": "0bed5dc7",
   "metadata": {},
   "outputs": [
    {
     "data": {
      "text/html": [
       "<div>\n",
       "<style scoped>\n",
       "    .dataframe tbody tr th:only-of-type {\n",
       "        vertical-align: middle;\n",
       "    }\n",
       "\n",
       "    .dataframe tbody tr th {\n",
       "        vertical-align: top;\n",
       "    }\n",
       "\n",
       "    .dataframe thead th {\n",
       "        text-align: right;\n",
       "    }\n",
       "</style>\n",
       "<table border=\"1\" class=\"dataframe\">\n",
       "  <thead>\n",
       "    <tr style=\"text-align: right;\">\n",
       "      <th>converted</th>\n",
       "      <th>False</th>\n",
       "      <th>True</th>\n",
       "    </tr>\n",
       "    <tr>\n",
       "      <th>test group</th>\n",
       "      <th></th>\n",
       "      <th></th>\n",
       "    </tr>\n",
       "  </thead>\n",
       "  <tbody>\n",
       "    <tr>\n",
       "      <th>ad</th>\n",
       "      <td>0.974453</td>\n",
       "      <td>0.025547</td>\n",
       "    </tr>\n",
       "    <tr>\n",
       "      <th>psa</th>\n",
       "      <td>0.982146</td>\n",
       "      <td>0.017854</td>\n",
       "    </tr>\n",
       "  </tbody>\n",
       "</table>\n",
       "</div>"
      ],
      "text/plain": [
       "converted      False     True \n",
       "test group                    \n",
       "ad          0.974453  0.025547\n",
       "psa         0.982146  0.017854"
      ]
     },
     "execution_count": 23,
     "metadata": {},
     "output_type": "execute_result"
    }
   ],
   "source": [
    "cross_tab = pd.crosstab(df['test group'], df['converted'], normalize='index')\n",
    "cross_tab"
   ]
  },
  {
   "cell_type": "markdown",
   "id": "bb782d11",
   "metadata": {},
   "source": [
    "Определение нулевой и альтернативной гипотез:\n",
    "\n",
    "- Нулевая гипотеза ($H_0$): между тестовой и контрольной группами нет различий в коэффициентах конверсии.\n",
    "- Альтернативная гипотеза ($H_1$): существует разница в коэффициентах конверсии между тестовой и контрольной группами."
   ]
  },
  {
   "cell_type": "markdown",
   "id": "2133b90b",
   "metadata": {},
   "source": [
    "Расчет необходимого размера выборки:\n",
    "\n",
    "В A/B тесте у нас есть данные о коэффициентах конверсии для двух групп: одна группа видела рекламное объявление (\"ad\"), другая — социальное объявление (\"psa\"). Эти коэффициенты следующие:\n",
    "\n",
    "- Группа \"ad\": Коэффициент конверсии: 2.55%\n",
    "- Группа \"psa\": Коэффициент конверсии: 1.79%\n",
    "\n",
    "Для расчета необходимого размера выборки для A/B теста можно использовать эти коэффициенты конверсии как исходные значения ($p_1$ и $p_2$)."
   ]
  },
  {
   "cell_type": "markdown",
   "id": "2c8a791d",
   "metadata": {},
   "source": [
    "Шаги для расчета размера выборки:\n",
    "\n",
    "Определите ключевые параметры:\n",
    "- Исходный коэффициент конверсии ($p_1$): Используем коэффициент конверсии группы PSA — 1.79%.\n",
    "- Ожидаемый коэффициент конверсии ($p_2$): Используем коэффициент конверсии группы Ad — 2.55%.\n",
    "- Уровень значимости ($\\alpha$): Устанавливаем на уровне 0.05.\n",
    "- Мощность теста ($1-\\beta$): Устанавливаем на уровне 0.8.\n",
    "\n",
    "Эти параметры помогут рассчитать, сколько участников нужно включить в тест, чтобы получить статистически значимый результат."
   ]
  },
  {
   "cell_type": "code",
   "execution_count": 24,
   "id": "28899df6",
   "metadata": {},
   "outputs": [
    {
     "name": "stdout",
     "output_type": "stream",
     "text": [
      "Необходмый размер выборки для каждой группы: 5631\n"
     ]
    }
   ],
   "source": [
    "from statsmodels.stats.power import NormalIndPower\n",
    "\n",
    "alpha = 0.05  # Уровень значимости\n",
    "power = 0.8   # Мощность\n",
    "p1 = 0.017854  # Коэффициент конверсии для контрольной группы (psa)\n",
    "p2 = 0.025547  # Коэффициент конверсии для тестовой группы (ad)\n",
    "\n",
    "p = (p1 + p2) / 2\n",
    "\n",
    "# Размер эффекта\n",
    "effect_size = (p2 - p1) / ((p * (1 - p)) ** 0.5)\n",
    "\n",
    "# Размер выборки для каждой группы\n",
    "power_analysis = NormalIndPower()\n",
    "sample_size = power_analysis.solve_power(effect_size=effect_size, power=power, alpha=alpha, ratio=1)\n",
    "\n",
    "print(f\"Необходмый размер выборки для каждой группы: {int(sample_size)}\")"
   ]
  },
  {
   "cell_type": "code",
   "execution_count": 25,
   "id": "6d9cb824",
   "metadata": {
    "scrolled": true
   },
   "outputs": [
    {
     "data": {
      "text/html": [
       "<div>\n",
       "<style scoped>\n",
       "    .dataframe tbody tr th:only-of-type {\n",
       "        vertical-align: middle;\n",
       "    }\n",
       "\n",
       "    .dataframe tbody tr th {\n",
       "        vertical-align: top;\n",
       "    }\n",
       "\n",
       "    .dataframe thead th {\n",
       "        text-align: right;\n",
       "    }\n",
       "</style>\n",
       "<table border=\"1\" class=\"dataframe\">\n",
       "  <thead>\n",
       "    <tr style=\"text-align: right;\">\n",
       "      <th></th>\n",
       "      <th>user id</th>\n",
       "      <th>test group</th>\n",
       "      <th>converted</th>\n",
       "      <th>total ads</th>\n",
       "      <th>most ads day</th>\n",
       "      <th>most ads hour</th>\n",
       "    </tr>\n",
       "  </thead>\n",
       "  <tbody>\n",
       "    <tr>\n",
       "      <th>529666</th>\n",
       "      <td>1300427</td>\n",
       "      <td>ad</td>\n",
       "      <td>False</td>\n",
       "      <td>21</td>\n",
       "      <td>Friday</td>\n",
       "      <td>20</td>\n",
       "    </tr>\n",
       "    <tr>\n",
       "      <th>385537</th>\n",
       "      <td>1197483</td>\n",
       "      <td>ad</td>\n",
       "      <td>False</td>\n",
       "      <td>2</td>\n",
       "      <td>Thursday</td>\n",
       "      <td>20</td>\n",
       "    </tr>\n",
       "    <tr>\n",
       "      <th>120467</th>\n",
       "      <td>1234257</td>\n",
       "      <td>ad</td>\n",
       "      <td>False</td>\n",
       "      <td>20</td>\n",
       "      <td>Sunday</td>\n",
       "      <td>10</td>\n",
       "    </tr>\n",
       "    <tr>\n",
       "      <th>186608</th>\n",
       "      <td>1384841</td>\n",
       "      <td>ad</td>\n",
       "      <td>True</td>\n",
       "      <td>47</td>\n",
       "      <td>Friday</td>\n",
       "      <td>14</td>\n",
       "    </tr>\n",
       "    <tr>\n",
       "      <th>141292</th>\n",
       "      <td>1646962</td>\n",
       "      <td>ad</td>\n",
       "      <td>False</td>\n",
       "      <td>13</td>\n",
       "      <td>Tuesday</td>\n",
       "      <td>13</td>\n",
       "    </tr>\n",
       "  </tbody>\n",
       "</table>\n",
       "</div>"
      ],
      "text/plain": [
       "        user id test group  converted  total ads most ads day  most ads hour\n",
       "529666  1300427         ad      False         21       Friday             20\n",
       "385537  1197483         ad      False          2     Thursday             20\n",
       "120467  1234257         ad      False         20       Sunday             10\n",
       "186608  1384841         ad       True         47       Friday             14\n",
       "141292  1646962         ad      False         13      Tuesday             13"
      ]
     },
     "execution_count": 25,
     "metadata": {},
     "output_type": "execute_result"
    }
   ],
   "source": [
    "def choose_random_sample(data, random_state=42):\n",
    "    return data.sample(n=int(sample_size), random_state=random_state)\n",
    "\n",
    "# Изменяем выборки\n",
    "df_smpl = df.groupby('test group', group_keys=False).apply(choose_random_sample)\n",
    "\n",
    "df_smpl.head()"
   ]
  },
  {
   "cell_type": "code",
   "execution_count": 26,
   "id": "a39e2817",
   "metadata": {
    "scrolled": false
   },
   "outputs": [
    {
     "data": {
      "text/html": [
       "<div>\n",
       "<style scoped>\n",
       "    .dataframe tbody tr th:only-of-type {\n",
       "        vertical-align: middle;\n",
       "    }\n",
       "\n",
       "    .dataframe tbody tr th {\n",
       "        vertical-align: top;\n",
       "    }\n",
       "\n",
       "    .dataframe thead th {\n",
       "        text-align: right;\n",
       "    }\n",
       "</style>\n",
       "<table border=\"1\" class=\"dataframe\">\n",
       "  <thead>\n",
       "    <tr style=\"text-align: right;\">\n",
       "      <th>converted</th>\n",
       "      <th>False</th>\n",
       "      <th>True</th>\n",
       "    </tr>\n",
       "    <tr>\n",
       "      <th>test group</th>\n",
       "      <th></th>\n",
       "      <th></th>\n",
       "    </tr>\n",
       "  </thead>\n",
       "  <tbody>\n",
       "    <tr>\n",
       "      <th>ad</th>\n",
       "      <td>5481</td>\n",
       "      <td>150</td>\n",
       "    </tr>\n",
       "    <tr>\n",
       "      <th>psa</th>\n",
       "      <td>5524</td>\n",
       "      <td>107</td>\n",
       "    </tr>\n",
       "  </tbody>\n",
       "</table>\n",
       "</div>"
      ],
      "text/plain": [
       "converted   False  True \n",
       "test group              \n",
       "ad           5481    150\n",
       "psa          5524    107"
      ]
     },
     "execution_count": 26,
     "metadata": {},
     "output_type": "execute_result"
    }
   ],
   "source": [
    "contingency_table_Z = pd.crosstab(df_smpl['test group'], df_smpl['converted'])\n",
    "contingency_table_Z"
   ]
  },
  {
   "cell_type": "markdown",
   "id": "100d5cf9",
   "metadata": {},
   "source": [
    "Отрисуем новые выборки, с заданным значением размера 5631"
   ]
  },
  {
   "cell_type": "code",
   "execution_count": 27,
   "id": "f07c34dd",
   "metadata": {},
   "outputs": [
    {
     "data": {
      "image/png": "[encoded data removed]",
      "text/plain": [
       "<Figure size 640x480 with 1 Axes>"
      ]
     },
     "metadata": {},
     "output_type": "display_data"
    }
   ],
   "source": [
    "# Данные из таблицы сопряженности\n",
    "groups = ['ad', 'psa']\n",
    "false_values = [5481, 5524]\n",
    "true_values = [150, 107]\n",
    "\n",
    "bar_width = 0.35\n",
    "index = range(len(groups))\n",
    "\n",
    "plt.bar(index, false_values, bar_width, label='Неконвертированные', color='blue')\n",
    "plt.bar([i + bar_width for i in index], true_values, bar_width, label='Конвертированные', color='orange')\n",
    "\n",
    "plt.xlabel('Группы')\n",
    "plt.ylabel('Количество человек')\n",
    "plt.title('Конвертированные и неконвертированные пользователи')\n",
    "plt.xticks([i + bar_width / 2 for i in index], groups)\n",
    "plt.legend()\n",
    "plt.show()"
   ]
  },
  {
   "cell_type": "code",
   "execution_count": 28,
   "id": "143003a4",
   "metadata": {},
   "outputs": [
    {
     "data": {
      "text/html": [
       "<div>\n",
       "<style scoped>\n",
       "    .dataframe tbody tr th:only-of-type {\n",
       "        vertical-align: middle;\n",
       "    }\n",
       "\n",
       "    .dataframe tbody tr th {\n",
       "        vertical-align: top;\n",
       "    }\n",
       "\n",
       "    .dataframe thead th {\n",
       "        text-align: right;\n",
       "    }\n",
       "</style>\n",
       "<table border=\"1\" class=\"dataframe\">\n",
       "  <thead>\n",
       "    <tr style=\"text-align: right;\">\n",
       "      <th>converted</th>\n",
       "      <th>False</th>\n",
       "      <th>True</th>\n",
       "    </tr>\n",
       "    <tr>\n",
       "      <th>test group</th>\n",
       "      <th></th>\n",
       "      <th></th>\n",
       "    </tr>\n",
       "  </thead>\n",
       "  <tbody>\n",
       "    <tr>\n",
       "      <th>ad</th>\n",
       "      <td>0.973362</td>\n",
       "      <td>0.026638</td>\n",
       "    </tr>\n",
       "    <tr>\n",
       "      <th>psa</th>\n",
       "      <td>0.980998</td>\n",
       "      <td>0.019002</td>\n",
       "    </tr>\n",
       "  </tbody>\n",
       "</table>\n",
       "</div>"
      ],
      "text/plain": [
       "converted      False     True \n",
       "test group                    \n",
       "ad          0.973362  0.026638\n",
       "psa         0.980998  0.019002"
      ]
     },
     "execution_count": 28,
     "metadata": {},
     "output_type": "execute_result"
    }
   ],
   "source": [
    "# Новые коэффициенты конверсии (True)\n",
    "row_percentages = contingency_table_Z.div(contingency_table_Z.sum(axis=1), axis=0)\n",
    "row_percentages"
   ]
  },
  {
   "cell_type": "code",
   "execution_count": 29,
   "id": "15c43fb6",
   "metadata": {},
   "outputs": [
    {
     "name": "stdout",
     "output_type": "stream",
     "text": [
      "Z-statistic: 2.7134050689178086\n",
      "p-value: 0.003329782308620703\n"
     ]
    }
   ],
   "source": [
    "import statsmodels.api as sm\n",
    "\n",
    "# Количество успехов и испытаний в кажой группе\n",
    "success_ad = contingency_table_Z.loc['ad', True]\n",
    "trials_ad = contingency_table_Z.loc['ad', False] + contingency_table_Z.loc['ad', True]\n",
    "success_psa = contingency_table_Z.loc['psa', True]\n",
    "trials_psa = contingency_table_Z.loc['psa', False] + contingency_table_Z.loc['psa', True]\n",
    "\n",
    "# Z-тест для конверсий\n",
    "z_stat, p_value = sm.stats.proportions_ztest(\n",
    "    [success_ad, success_psa], \n",
    "    [trials_ad, trials_psa], \n",
    "    alternative='larger'\n",
    ")\n",
    "\n",
    "print(f\"Z-statistic: {z_stat}\")\n",
    "print(f\"p-value: {p_value}\")"
   ]
  },
  {
   "cell_type": "markdown",
   "id": "aa2e98d4",
   "metadata": {},
   "source": [
    "P-value (0.0033) меньше заданного уровня значимости (0.05), что означает, что мы отвергаем нулевую гипотезу. Существует статистически значимая разница в конверсиях между группой с рекламой (ad) и группой без неё (psa). Разница в пропорциях (2.66% и 1.9%) не является случайной."
   ]
  },
  {
   "cell_type": "markdown",
   "id": "d5972eff",
   "metadata": {},
   "source": [
    "# 6. Вывод"
   ]
  },
  {
   "cell_type": "markdown",
   "id": "2e0da808",
   "metadata": {},
   "source": [
    "- **Статистически значимая связь между днем недели и конверсией:** День, в который пользователи видят больше всего рекламы, влияет на их вероятность конверсии. В понедельник вероятность конверсии выше, в субботу — ниже.\n",
    "- **Различие дисперсий между группами:** Дисперсии по количеству просмотренных объявлений в группах конвертировавшихся и не конвертировавшихся пользователей существенно различаются.\n",
    "- **Статистически значимая разница в средних значениях:** Среднее количество просмотренных объявлений в группах отличается. Значение Cohen's d 1.42 указывает на значительную разницу между средними групп. Это означает, что пользователи, которые видели больше рекламы или объявлений, чаще совершали целевое действие\n",
    "- **Различие в конверсиях:** Cуществует статистически значимая разница в конверсиях между группой с рекламой (ad) и группой без неё (psa)."
   ]
  }
 ],
 "metadata": {
  "kernelspec": {
   "display_name": "Python 3 (ipykernel)",
   "language": "python",
   "name": "python3"
  },
  "language_info": {
   "codemirror_mode": {
    "name": "ipython",
    "version": 3
   },
   "file_extension": ".py",
   "mimetype": "text/x-python",
   "name": "python",
   "nbconvert_exporter": "python",
   "pygments_lexer": "ipython3",
   "version": "3.11.4"
  }
 },
 "nbformat": 4,
 "nbformat_minor": 5
}
